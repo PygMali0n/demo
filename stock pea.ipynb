{
 "cells": [
  {
   "cell_type": "code",
   "execution_count": 77,
   "metadata": {},
   "outputs": [],
   "source": [
    "from __future__ import print_function\n",
    "import pandas as pd\n",
    "import numpy as np\n",
    "from scipy import linalg as la\n",
    "import findata_tools as ft"
   ]
  },
  {
   "cell_type": "code",
   "execution_count": 78,
   "metadata": {},
   "outputs": [],
   "source": [
    "names,data_origin = ft.load_data('stockprices.csv')\n",
    "for i in range(432):\n",
    "    data_origin[i,:] = data_origin[i+1,:] - data_origin[i,:]\n",
    "data_origin = data_origin[:-1,:]"
   ]
  },
  {
   "cell_type": "code",
   "execution_count": 79,
   "metadata": {},
   "outputs": [],
   "source": [
    "# centered\n",
    "data -= np.mean(data_origin, axis = 0)\n",
    "# covariance matrix\n",
    "cov = np.cov(data, rowvar = False)\n",
    "# pca\n",
    "eigvalues, eigvector = la.eigh(cov)"
   ]
  },
  {
   "cell_type": "code",
   "execution_count": 80,
   "metadata": {},
   "outputs": [],
   "source": [
    "# index of eigenvalues with descending order\n",
    "idx = np.argsort(eigvalues)[::-1]"
   ]
  },
  {
   "cell_type": "code",
   "execution_count": 81,
   "metadata": {},
   "outputs": [],
   "source": [
    "eigval = eigvalues[idx]\n",
    "eigvec = eigvector[:,idx]"
   ]
  },
  {
   "cell_type": "code",
   "execution_count": 82,
   "metadata": {},
   "outputs": [
    {
     "name": "stdout",
     "output_type": "stream",
     "text": [
      "      AAPL      AMZN     MSFT      GOOG       XOM       APC       CVX  \\\n",
      " -0.261467 -0.001655 -0.20791 -0.004442  0.287572 -0.345815 -0.086061   \n",
      "\n",
      "         C        GS       JPM       AET       JNJ       DGX       SPY  \\\n",
      " -0.534243  0.488433  0.068117 -0.150816 -0.128356  0.170196  0.248933   \n",
      "\n",
      "       XLF       SSO       SDS       USO  \n",
      " -0.022294  0.117806  0.074358 -0.003651  \n"
     ]
    }
   ],
   "source": [
    "ft.pretty_print(eigvec[0], names)"
   ]
  },
  {
   "cell_type": "code",
   "execution_count": 83,
   "metadata": {},
   "outputs": [
    {
     "name": "stdout",
     "output_type": "stream",
     "text": [
      "      AAPL      AMZN      MSFT      GOOG      XOM       APC       CVX  \\\n",
      " -0.263167 -0.167688 -0.165113  0.130298  0.06661 -0.162101  0.128283   \n",
      "\n",
      "         C        GS       JPM       AET       JNJ      DGX      SPY  \\\n",
      "  0.133239 -0.030477  0.022462  0.132338  0.181506  0.20259 -0.50712   \n",
      "\n",
      "       XLF       SSO       SDS       USO  \n",
      " -0.455702  0.457106 -0.156524 -0.047392  \n"
     ]
    }
   ],
   "source": [
    "ft.pretty_print(eigvec[1], names)"
   ]
  },
  {
   "cell_type": "code",
   "execution_count": 84,
   "metadata": {},
   "outputs": [],
   "source": [
    "# centered\n",
    "data -= np.mean(data_origin, axis = 0)\n",
    "# normalize\n",
    "data = data / np.std(data, axis = 0)\n",
    "# correlation matrix\n",
    "cor = np.cov(data, rowvar = False)\n",
    "# pca\n",
    "eigvalues, eigvector = la.eigh(cor)"
   ]
  },
  {
   "cell_type": "code",
   "execution_count": 85,
   "metadata": {},
   "outputs": [],
   "source": [
    "# index of eigenvalues with descending order\n",
    "idx = np.argsort(eigvalues)[::-1]\n",
    "eigval = eigvalues[idx]\n",
    "eigvec = eigvector[:,idx]"
   ]
  },
  {
   "cell_type": "code",
   "execution_count": 86,
   "metadata": {},
   "outputs": [
    {
     "name": "stdout",
     "output_type": "stream",
     "text": [
      "      AAPL      AMZN     MSFT      GOOG       XOM       APC       CVX  \\\n",
      " -0.261467 -0.001655 -0.20791 -0.004442  0.287572  0.345815 -0.086061   \n",
      "\n",
      "         C        GS       JPM       AET       JNJ       DGX       SPY  \\\n",
      "  0.534243  0.488433  0.068117 -0.150816 -0.128356  0.170196  0.248933   \n",
      "\n",
      "       XLF       SSO       SDS       USO  \n",
      " -0.022294  0.117806 -0.074358 -0.003651  \n"
     ]
    }
   ],
   "source": [
    "ft.pretty_print(eigvec[0], names)"
   ]
  },
  {
   "cell_type": "code",
   "execution_count": 87,
   "metadata": {},
   "outputs": [
    {
     "name": "stdout",
     "output_type": "stream",
     "text": [
      "      AAPL      AMZN      MSFT      GOOG      XOM       APC       CVX  \\\n",
      " -0.263167 -0.167688 -0.165113  0.130298  0.06661  0.162101  0.128283   \n",
      "\n",
      "         C        GS       JPM       AET       JNJ      DGX      SPY  \\\n",
      " -0.133239 -0.030477  0.022462  0.132338  0.181506  0.20259 -0.50712   \n",
      "\n",
      "       XLF       SSO       SDS       USO  \n",
      " -0.455702  0.457106  0.156524 -0.047392  \n"
     ]
    }
   ],
   "source": [
    "ft.pretty_print(eigvec[1], names)"
   ]
  },
  {
   "cell_type": "code",
   "execution_count": 88,
   "metadata": {},
   "outputs": [],
   "source": [
    "# shares of stock\n",
    "c = np.ones(18) * 100\n",
    "for i in range(4):\n",
    "    c[i] = 200"
   ]
  },
  {
   "cell_type": "code",
   "execution_count": 89,
   "metadata": {},
   "outputs": [
    {
     "data": {
      "text/plain": [
       "1632.455285599393"
      ]
     },
     "execution_count": 89,
     "metadata": {},
     "output_type": "execute_result"
    }
   ],
   "source": [
    "# sample standard deviation\n",
    "var = c.T@cor@c\n",
    "std = np.sqrt(var)\n",
    "std"
   ]
  },
  {
   "cell_type": "code",
   "execution_count": 90,
   "metadata": {},
   "outputs": [
    {
     "data": {
      "text/plain": [
       "0.8797824537037037"
      ]
     },
     "execution_count": 90,
     "metadata": {},
     "output_type": "execute_result"
    }
   ],
   "source": [
    "# calculate linear combination of expectation\n",
    "mean = c.T@np.mean(data_origin, axis = 0)\n",
    "# markov inequality\n",
    "prob = mean/1000\n",
    "prob"
   ]
  }
 ],
 "metadata": {
  "kernelspec": {
   "display_name": "Python 3",
   "language": "python",
   "name": "python3"
  },
  "language_info": {
   "codemirror_mode": {
    "name": "ipython",
    "version": 3
   },
   "file_extension": ".py",
   "mimetype": "text/x-python",
   "name": "python",
   "nbconvert_exporter": "python",
   "pygments_lexer": "ipython3",
   "version": "3.8.3"
  }
 },
 "nbformat": 4,
 "nbformat_minor": 4
}
